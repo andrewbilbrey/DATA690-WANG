{
 "cells": [
  {
   "cell_type": "code",
   "execution_count": 1,
   "metadata": {},
   "outputs": [
    {
     "name": "stdout",
     "output_type": "stream",
     "text": [
      "**********************************************\n",
      " \n",
      "*   8   7   4   6   8   4   7   7   6   4   * \n",
      "\n",
      "*   4   6   6   8   4   3   6   9   3   5   * \n",
      "\n",
      "*   1   4   6   1   5   4   4   8   3   8   * \n",
      "\n",
      "*   1   9   9   9   9   4   7   9   9   2   * \n",
      "\n",
      "*   4   8   8   2   2   8   6   1   5   2   * \n",
      "\n",
      "*   9   7   9   7   2   4   9   2   7   1   * \n",
      "\n",
      "*   3   2   5   1   7   3   6   5   4   2   * \n",
      "\n",
      "*   9   9   7   5   2   2   6   5   7   4   * \n",
      "\n",
      "*   8   9   6   3   4   4   6   7   5   5   * \n",
      "\n",
      "*   9   3   6   8   6   8   8   3   7   3   * \n",
      "\n",
      "**********************************************"
     ]
    }
   ],
   "source": [
    "import random\n",
    "\n",
    "cnt = 0\n",
    "while cnt <= 45:\n",
    "    print(\"*\", end=\"\")\n",
    "    cnt = cnt + 1\n",
    "    \n",
    "print(\"\\n \")\n",
    "   \n",
    "for i in range(10):\n",
    "    print(\"*\", \"  \", end=\"\")\n",
    "    for j in range(10):\n",
    "        print(random.randint(1,9), \"  \", end=\"\")\n",
    "    print(\"*\", \"\\n\")\n",
    "\n",
    "\n",
    "       \n",
    "cnt = 0\n",
    "while cnt <= 45:\n",
    "    print(\"*\", end=\"\")\n",
    "    cnt = cnt + 1"
   ]
  },
  {
   "cell_type": "code",
   "execution_count": null,
   "metadata": {},
   "outputs": [],
   "source": []
  }
 ],
 "metadata": {
  "kernelspec": {
   "display_name": "Python 3",
   "language": "python",
   "name": "python3"
  },
  "language_info": {
   "codemirror_mode": {
    "name": "ipython",
    "version": 3
   },
   "file_extension": ".py",
   "mimetype": "text/x-python",
   "name": "python",
   "nbconvert_exporter": "python",
   "pygments_lexer": "ipython3",
   "version": "3.6.5"
  }
 },
 "nbformat": 4,
 "nbformat_minor": 2
}
